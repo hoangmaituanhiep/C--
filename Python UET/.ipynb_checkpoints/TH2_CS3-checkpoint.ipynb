{
 "cells": [
  {
   "cell_type": "code",
   "execution_count": 1,
   "id": "fc331845-0c8b-4a10-a6d7-661b0e278554",
   "metadata": {},
   "outputs": [
    {
     "name": "stdout",
     "output_type": "stream",
     "text": [
      "Hello World!\n"
     ]
    }
   ],
   "source": [
    "#W2A1\n",
    "print(\"Hello World!\")"
   ]
  },
  {
   "cell_type": "code",
   "execution_count": 3,
   "id": "f43a6f79-4b16-43c4-b389-a55bc3616a94",
   "metadata": {},
   "outputs": [
    {
     "name": "stdin",
     "output_type": "stream",
     "text": [
      " Hiep Dai Cac\n"
     ]
    },
    {
     "name": "stdout",
     "output_type": "stream",
     "text": [
      "Chao ban Hiep Dai Cac\n"
     ]
    }
   ],
   "source": [
    "#W2A2\n",
    "name = input()\n",
    "print('Chao ban', name)"
   ]
  },
  {
   "cell_type": "code",
   "execution_count": 12,
   "id": "3b4bbe15-70aa-4099-82b0-d42f0801583d",
   "metadata": {},
   "outputs": [
    {
     "name": "stdin",
     "output_type": "stream",
     "text": [
      " 12 30\n"
     ]
    },
    {
     "name": "stdout",
     "output_type": "stream",
     "text": [
      "12 + 30 = 42\n",
      "12 - 30 = -18\n",
      "12 * 30 = 360\n",
      "12 / 30 = 0.40\n",
      "12 % 30 = 12\n",
      "12 // 30 = 0\n"
     ]
    }
   ],
   "source": [
    "#W2A3\n",
    "a, b = map(int, input().split())\n",
    "\n",
    "'''\n",
    "+: cong\n",
    "-: tru\n",
    "*: nhan\n",
    "/: chia\n",
    "//: chia lay nguyen\n",
    "%: chia lay du\n",
    ":.n: voi n la so sau phan thap phan\n",
    "'''\n",
    "print(f'{a} + {b} = {a+b}')\n",
    "print(f'{a} - {b} = {a-b}')\n",
    "print(f'{a} * {b} = {a*b}')\n",
    "print(f'{a} / {b} = {a/b:.2f}')\n",
    "print(f'{a} % {b} = {a%b}')\n",
    "print(f'{a} // {b} = {a//b}')"
   ]
  },
  {
   "cell_type": "code",
   "execution_count": 2,
   "id": "c8107391-6550-4632-a631-53756c18276e",
   "metadata": {},
   "outputs": [
    {
     "name": "stdin",
     "output_type": "stream",
     "text": [
      " 1 2 3 4 5 6\n"
     ]
    },
    {
     "name": "stdout",
     "output_type": "stream",
     "text": [
      "4.2\n"
     ]
    }
   ],
   "source": [
    "#W2A4\n",
    "\n",
    "a1, b1, c1, a2, b2, c3 = map(int, input().split())\n",
    "\n",
    "TB = (a1 + b1 + c1 + (a2 + b2) *2 + c3*3)/10\n",
    "\n",
    "print(f'{TB:.1f}')"
   ]
  },
  {
   "cell_type": "code",
   "execution_count": 1,
   "id": "28e774be-cf37-4826-bf62-46ad876aa1ce",
   "metadata": {},
   "outputs": [
    {
     "name": "stdin",
     "output_type": "stream",
     "text": [
      " 2 3\n"
     ]
    },
    {
     "name": "stdout",
     "output_type": "stream",
     "text": [
      "8\n"
     ]
    }
   ],
   "source": [
    "#W2A5\n",
    "\n",
    "a, b = map(int, input().split())\n",
    "\n",
    "print(a**b)"
   ]
  },
  {
   "cell_type": "code",
   "execution_count": 3,
   "id": "0f6ab5ae-9ae3-4b9e-91d3-f4582b84cf38",
   "metadata": {},
   "outputs": [
    {
     "name": "stdin",
     "output_type": "stream",
     "text": [
      " Ngo Tung Van\n"
     ]
    },
    {
     "name": "stdout",
     "output_type": "stream",
     "text": [
      "Yo Van, Tung and Ngo\n"
     ]
    }
   ],
   "source": [
    "#W2A10\n",
    "a, b, c = input().split()\n",
    "print('Yo ', c, ', ', b, ' and ', a, sep = '')"
   ]
  }
 ],
 "metadata": {
  "kernelspec": {
   "display_name": "Python 3 (ipykernel)",
   "language": "python",
   "name": "python3"
  },
  "language_info": {
   "codemirror_mode": {
    "name": "ipython",
    "version": 3
   },
   "file_extension": ".py",
   "mimetype": "text/x-python",
   "name": "python",
   "nbconvert_exporter": "python",
   "pygments_lexer": "ipython3",
   "version": "3.13.7"
  }
 },
 "nbformat": 4,
 "nbformat_minor": 5
}
